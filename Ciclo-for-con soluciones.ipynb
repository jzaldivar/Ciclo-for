{
 "metadata": {
  "language_info": {
   "codemirror_mode": {
    "name": "ipython",
    "version": 3
   },
   "file_extension": ".py",
   "mimetype": "text/x-python",
   "name": "python",
   "nbconvert_exporter": "python",
   "pygments_lexer": "ipython3",
   "version": "3.9.1"
  },
  "orig_nbformat": 2,
  "kernelspec": {
   "name": "python3",
   "display_name": "Python 3.9.1 64-bit",
   "metadata": {
    "interpreter": {
     "hash": "1e5a504a27c91785cc20fa5894256130d97c1764e1afe7fb121f7c2e7578e171"
    }
   }
  }
 },
 "nbformat": 4,
 "nbformat_minor": 2,
 "cells": [
  {
   "source": [
    "# Ciclo for\n",
    "\n",
    "Python implementa dos estructuras cíclicas:\n",
    "\n",
    "- La estructura `while` y\n",
    "- La estructura `for`\n",
    "\n",
    "Una estructura `while` está controlada por el valor lógico de la condición que la controla. En tanto el valor permanezca como `True`, el ciclo continuará ejecutándose.\n",
    "\n",
    "```python\n",
    "while condición:\n",
    "    Intrucciones a ejecutar mientras\n",
    "    condición sea True\n",
    "```\n",
    "\n",
    "***Nota***: El valor de la condición se verifica *únicamente* antes de iniciar cada repetición del ciclo.\n",
    "\n",
    "En cambio, una estructura `for` se utiliza para recorrer todo un iterable. Su sintaxis sencilla es:\n",
    "\n",
    "```python\n",
    "for variable in iterable:\n",
    "    Instrucciones a ejecutar para\n",
    "    cada uno de los elementos de\n",
    "    iterable\n",
    "```\n",
    "\n",
    "Dentro del ciclo, `variable` tomará, por turno, como valor, cada uno de los elementos de `iterable`. No es necesario hacer ninguna asignación explícita ni llevar el control de en qué momento se terminan los elementos de `iterable`, el ciclo `for` se hace cargo de esos menesteres automáticamente."
   ],
   "cell_type": "markdown",
   "metadata": {}
  },
  {
   "cell_type": "code",
   "execution_count": null,
   "metadata": {},
   "outputs": [],
   "source": [
    "for numero in [1, 5, 7, 10, 0, -2]:\n",
    "    print(numero)"
   ]
  },
  {
   "source": [
    "Una cadena también es un iterable y cada uno de sus caracteres es un elemento."
   ],
   "cell_type": "markdown",
   "metadata": {}
  },
  {
   "cell_type": "code",
   "execution_count": null,
   "metadata": {},
   "outputs": [],
   "source": [
    "for letra in \"Algoritmos y Programación\":\n",
    "    print(f\"'{letra}'\", end=\", \")"
   ]
  },
  {
   "source": [
    "<div class=\"alert alert-block alert-info\">\n",
    "    <b>Ejercicio</b>: Utiliza un ciclo <code>for</code> para mostrar, en mayúsculas, cada elemento de la lista <code>coordenadas</code>.\n",
    "</div>"
   ],
   "cell_type": "markdown",
   "metadata": {}
  },
  {
   "cell_type": "code",
   "execution_count": 1,
   "metadata": {},
   "outputs": [
    {
     "output_type": "stream",
     "name": "stdout",
     "text": [
      "NORTE\nSUR\nESTE\nOESTE\n"
     ]
    }
   ],
   "source": [
    "coordenadas = [\"Norte\", \"Sur\", \"Este\", \"Oeste\"]\n",
    "for elemento in coordenadas:\n",
    "    print(elemento.upper())"
   ]
  },
  {
   "source": [
    "<div class=\"alert alert-block alert-info\">\n",
    "    <b>Ejercicio</b>: Utiliza un ciclo <code>for</code> para mostrar los números del 1 al 10.\n",
    "</div>"
   ],
   "cell_type": "markdown",
   "metadata": {}
  },
  {
   "cell_type": "code",
   "execution_count": 2,
   "metadata": {},
   "outputs": [
    {
     "output_type": "stream",
     "name": "stdout",
     "text": [
      "1\n2\n3\n4\n5\n6\n7\n8\n9\n10\n"
     ]
    }
   ],
   "source": [
    "for i in [1, 2, 3, 4, 5, 6, 7, 8, 9, 10]:\n",
    "    print(i)"
   ]
  },
  {
   "source": [
    "## `range`\n",
    "\n",
    "La función generadora `range` produce una secuencia de números enteros en un rango dado. Utilizando esta característica, es posible construir ciclos que se repitan un número específico de veces:\n",
    "\n",
    "```python\n",
    "for contador in range(n):\n",
    "    Instrucciones que se ejecutarán\n",
    "    n veces\n",
    "```\n",
    "\n",
    "Dependiendo del algoritmo en particular, es posible o no que, al interior del ciclo, interese el valor de la variable controlada por el ciclo."
   ],
   "cell_type": "markdown",
   "metadata": {}
  },
  {
   "cell_type": "code",
   "execution_count": null,
   "metadata": {},
   "outputs": [],
   "source": [
    "plana = \"Debo comerme mis verduras.\"\n",
    "for i in range(15):\n",
    "    print(plana)"
   ]
  },
  {
   "cell_type": "code",
   "execution_count": 3,
   "metadata": {},
   "outputs": [
    {
     "output_type": "stream",
     "name": "stdout",
     "text": [
      " 1. Debo comerme mis verduras.\n 2. Debo comerme mis verduras.\n 3. Debo comerme mis verduras.\n 4. Debo comerme mis verduras.\n 5. Debo comerme mis verduras.\n 6. Debo comerme mis verduras.\n 7. Debo comerme mis verduras.\n 8. Debo comerme mis verduras.\n 9. Debo comerme mis verduras.\n10. Debo comerme mis verduras.\n11. Debo comerme mis verduras.\n12. Debo comerme mis verduras.\n13. Debo comerme mis verduras.\n14. Debo comerme mis verduras.\n15. Debo comerme mis verduras.\n16. Debo comerme mis verduras.\n17. Debo comerme mis verduras.\n18. Debo comerme mis verduras.\n19. Debo comerme mis verduras.\n20. Debo comerme mis verduras.\n21. Debo comerme mis verduras.\n22. Debo comerme mis verduras.\n23. Debo comerme mis verduras.\n24. Debo comerme mis verduras.\n25. Debo comerme mis verduras.\n26. Debo comerme mis verduras.\n27. Debo comerme mis verduras.\n28. Debo comerme mis verduras.\n29. Debo comerme mis verduras.\n30. Debo comerme mis verduras.\n31. Debo comerme mis verduras.\n32. Debo comerme mis verduras.\n33. Debo comerme mis verduras.\n34. Debo comerme mis verduras.\n35. Debo comerme mis verduras.\n36. Debo comerme mis verduras.\n37. Debo comerme mis verduras.\n38. Debo comerme mis verduras.\n39. Debo comerme mis verduras.\n40. Debo comerme mis verduras.\n"
     ]
    }
   ],
   "source": [
    "plana = \"Debo comerme mis verduras.\"\n",
    "for i in range(1, 41):\n",
    "    print(f\"{i:2}. {plana}\")"
   ]
  },
  {
   "source": [
    "<div class=\"alert alert-block alert-info\">\n",
    "    <b>Ejercicio</b>: Modifica el código de la celda de arriba para hacer una plana de 40 renglones, pero con los renglones numerados del 1 al 40.\n",
    "</div>"
   ],
   "cell_type": "markdown",
   "metadata": {}
  },
  {
   "source": [
    "<div class=\"alert alert-block alert-info\">\n",
    "    <b>Ejercicio</b>: Imprime, mediante un ciclo <code>for</code>, los números del 1 al 100, en el mismo renglón, separados por un espacio:<p><code>1 2 3 4 5 ... 98 99 100<code>\n",
    "</div>"
   ],
   "cell_type": "markdown",
   "metadata": {}
  },
  {
   "cell_type": "code",
   "execution_count": 4,
   "metadata": {},
   "outputs": [
    {
     "output_type": "stream",
     "name": "stdout",
     "text": [
      "1 2 3 4 5 6 7 8 9 10 11 12 13 14 15 16 17 18 19 20 21 22 23 24 25 26 27 28 29 30 31 32 33 34 35 36 37 38 39 40 41 42 43 44 45 46 47 48 49 50 51 52 53 54 55 56 57 58 59 60 61 62 63 64 65 66 67 68 69 70 71 72 73 74 75 76 77 78 79 80 81 82 83 84 85 86 87 88 89 90 91 92 93 94 95 96 97 98 99 100 "
     ]
    }
   ],
   "source": [
    "for i in range(1, 101):\n",
    "    print(i, end= \" \")"
   ]
  },
  {
   "source": [
    "## `while` *vs* `for`\n",
    "\n",
    "- `while` es la estructura repetitiva básica\n",
    "- `for` es una estructura repetitiva especializada\n",
    "- Todo lo que se puede hacer con `for`, también se puede hacer con `while`\n",
    "- No todo lo que se puede hacer con `while` se puede hacer con `for`, al menos no de manera sencilla\n",
    "\n",
    "De esta manera, cualquier ciclo escrito con `for` se puede escribir con `while`, aunque, usualmente, es más sencillo utilizar `for` cuando se puede.\n",
    "\n",
    "- Usar `for cuando se conozca de antemano cuántas veces se repetirá`un ciclo, cuando se conozcan los valores inicial y final, o cuando se quieran procesar los elementos de un conjunto\n",
    "- Usar `while` cuando no se conozca cuántas repeticiones se requerirán pero se conozca la condición de finalización"
   ],
   "cell_type": "markdown",
   "metadata": {}
  },
  {
   "source": [
    "<div class=\"alert alert-block alert-info\">\n",
    "    <b>Ejercicio</b>: Observa el código de la siguiente celda y modifícalo en una nueva celda para replicar su comportamiento pero usando un ciclo <code>while</code>.\n",
    "</div>"
   ],
   "cell_type": "markdown",
   "metadata": {}
  },
  {
   "cell_type": "code",
   "execution_count": 6,
   "metadata": {},
   "outputs": [
    {
     "output_type": "stream",
     "name": "stdout",
     "text": [
      "Bilbo\nFrodo\nSam\nMerry\nPippin\n"
     ]
    }
   ],
   "source": [
    "hobbits = [\"Bilbo\", \"Frodo\", \"Sam\", \"Merry\", \"Pippin\"]\n",
    "for hobbit in hobbits:\n",
    "    print(hobbit)"
   ]
  },
  {
   "cell_type": "code",
   "execution_count": 5,
   "metadata": {},
   "outputs": [
    {
     "output_type": "stream",
     "name": "stdout",
     "text": [
      "Bilbo\nFrodo\nSam\nMerry\nPippin\n"
     ]
    }
   ],
   "source": [
    "# Ahora hazlo con while\n",
    "hobbits = [\"Bilbo\", \"Frodo\", \"Sam\", \"Merry\", \"Pippin\"]\n",
    "posicion = 0\n",
    "while posicion < len(hobbits):\n",
    "    print(hobbits[posicion])\n",
    "    posicion += 1\n"
   ]
  },
  {
   "source": [
    "## `zip`\n",
    "\n",
    "En ocasiones, es necesario aplicar un procedimiento iterativo que involucre varias listas del mismo tamaño. Para eso, se puede utilizar la función `zip` que *empaca* los valores correspondientes, por su orden, de las diferentes listas.\n",
    "\n",
    "Hay que tomar nota de que es necesario utilizar, en el `for`, una variable que reciba el elemento correspondiente por cada una de las listas en el `zip`."
   ],
   "cell_type": "markdown",
   "metadata": {}
  },
  {
   "cell_type": "code",
   "execution_count": null,
   "metadata": {},
   "outputs": [],
   "source": [
    "alumnos = [\"Eeni\", \"Meenie\", \"Miney\", \"Moo\"]\n",
    "calificaciones = [65, 80, 75, 50]\n",
    "for alumno, calificacion in zip(alumnos, calificaciones):\n",
    "    print(f\"La calificación de {alumno} es {calificacion}\")"
   ]
  },
  {
   "source": [
    "`zip` no está limitado a dos listas, puede empacar cualquier número de listas."
   ],
   "cell_type": "markdown",
   "metadata": {}
  },
  {
   "cell_type": "code",
   "execution_count": null,
   "metadata": {},
   "outputs": [],
   "source": [
    "numeros = [1, 2, 3, 4, 5, 6]\n",
    "espanol = [\"uno\", \"dos\", \"tres\", \"cuatro\", \"cinco\", \"seis\"]\n",
    "ingles = [\"one\", \"two\", \"three\", \"four\", \"five\", \"six\"]\n",
    "aleman = [\"ein\", \"zwei\", \"drei\", \"vier\", \"fünf\", \"sechs\"]\n",
    "for num, esp, ing, ale in zip(numeros, espanol, ingles, aleman):\n",
    "    print(f\"{num} {esp:6} {ing:6} {ale:6}\")"
   ]
  },
  {
   "source": [
    "<div class=\"alert alert-block alert-info\">\n",
    "    <b>Ejercicio</b>: En la siguiente celda, crea una lista <code>personas</code> y una lista <code>frutas</code> con los nombres de la fruta favorita de cada persona. Después, utiliza <code>for</code> y <code>zip</code> para construir frases como:<p><code>La fruta favorita de Juan es la naranja</code>.\n",
    "</div>"
   ],
   "cell_type": "markdown",
   "metadata": {}
  },
  {
   "cell_type": "code",
   "execution_count": 7,
   "metadata": {},
   "outputs": [
    {
     "output_type": "stream",
     "name": "stdout",
     "text": [
      "La fruta favorita de Mickey es manzana.\nLa fruta favorita de Minnie es naranja.\nLa fruta favorita de Donald es uva.\nLa fruta favorita de Daisy es zarzamora.\n"
     ]
    }
   ],
   "source": [
    "personas = [\"Mickey\", \"Minnie\", \"Donald\", \"Daisy\"]\n",
    "frutas = [\"manzana\", \"naranja\", \"uva\", \"zarzamora\"]\n",
    "for persona, fruta in zip(personas, frutas):\n",
    "    print(f\"La fruta favorita de {persona} es {fruta}.\")"
   ]
  },
  {
   "source": [
    "## `enumerate`\n",
    "\n",
    "En algunas ocasiones, es necesario conocer, además del elemento con el que se está trabajando, su posición en la lista. Esto se puede lograr utilizando la función `enumerate` que, por cada elemento de una lista, produce dos elementos: un valor de índice y el valor del elemento en la lista."
   ],
   "cell_type": "markdown",
   "metadata": {}
  },
  {
   "cell_type": "code",
   "execution_count": null,
   "metadata": {},
   "outputs": [],
   "source": [
    "dias = [\"lunes\", \"martes\", \"miércoles\", \"jueves\", \"viernes\"]\n",
    "for i, d in enumerate(dias):\n",
    "    print(i, d)"
   ]
  },
  {
   "source": [
    "En realidad, el índice producido por `enumerate` es arbitrario y **no** está relacionado con el verdadero índice del elemento en la lista, es simplemente un entero consecutivo que inicia en un valor arbitrario, de manera predeterminada `0`, pero se puede establecer mediante el parámetro opcional `start`."
   ],
   "cell_type": "markdown",
   "metadata": {}
  },
  {
   "cell_type": "code",
   "execution_count": null,
   "metadata": {},
   "outputs": [],
   "source": [
    "dias = [\"lunes\", \"martes\", \"miércoles\", \"jueves\", \"viernes\"]\n",
    "for i, d in enumerate(dias, start=9):\n",
    "    print(i, d)"
   ]
  },
  {
   "source": [
    "# Ejercicios"
   ],
   "cell_type": "markdown",
   "metadata": {}
  },
  {
   "source": [
    "**Ejercicio**: Verificar que una cadena introducida por el usuario no contenga dígitos."
   ],
   "cell_type": "markdown",
   "metadata": {}
  },
  {
   "cell_type": "code",
   "execution_count": 11,
   "metadata": {},
   "outputs": [
    {
     "output_type": "stream",
     "name": "stdout",
     "text": [
      "Error: Debe introducir únicamente dígitos.\n"
     ]
    }
   ],
   "source": [
    "cadena = input(\"Introduzca un número entero: \")\n",
    "ok = True\n",
    "for caracter in cadena:\n",
    "    if not caracter.isdigit():\n",
    "        ok = False\n",
    "        break\n",
    "if ok:\n",
    "    print(\"Entrada valida:\", cadena)\n",
    "else:\n",
    "    print(\"Error: Debe introducir únicamente dígitos.\")"
   ]
  },
  {
   "source": [
    "**Ejercicio**: Durante el análisis de datos en ingeniería, frecuentemente es necesario calcular medidas de tendencia central en una muestra. La más frecuente es la media aritmética ($\\overline x$):\n",
    "\n",
    "$$ \\overline x = \\frac{\\sum_{i=n}^N x}{N}$$\n",
    "\n",
    "Pero también tenemos la media geométrica (G):\n",
    "\n",
    "$$ G = \\sqrt[N] {\\prod_{i=1}^{N} x} = \\sqrt [N] {x_1 \\cdot x_2 ... x_N } $$\n",
    "\n",
    "Y la media armónica (H):\n",
    "\n",
    "$$ H = \\frac {N} {\\sum_{i=1}^N \\frac{1}{n}}  = N \\cdot \\left( \\sum_{i=1}^N \\frac{1}{n} \\right)^{-1}$$\n",
    "\n",
    "Escribe un programa que, dada una serie de datos, calcule las tres medias."
   ],
   "cell_type": "markdown",
   "metadata": {}
  },
  {
   "cell_type": "code",
   "execution_count": 17,
   "metadata": {},
   "outputs": [
    {
     "output_type": "stream",
     "name": "stdout",
     "text": [
      "Introduzca a continuación los números de los que desea calcular sus medias,\n",
      "de <Enter> para terminar.\n",
      "Media aritmética: 45.0\n",
      "Media geométrica: 38.42071305731848\n",
      "Madia armónica: 31.243219950265544\n"
     ]
    }
   ],
   "source": [
    "# Entradas\n",
    "print(\"Introduzca a continuación los números de los que desea calcular sus medias,\")\n",
    "print(\"de <Enter> para terminar.\")\n",
    "numeros = []\n",
    "while (numero := input(\"Dato: \")):\n",
    "    numeros.append(float(numero))\n",
    "\n",
    "# Proceso\n",
    "N = len(numeros)\n",
    "# Media aritmética\n",
    "aritmetica = sum(numeros) / N\n",
    "\n",
    "# Media geométrica\n",
    "producto = 1\n",
    "for x in numeros:\n",
    "    producto *= x\n",
    "geometrica = producto ** (1/N)\n",
    "\n",
    "# Media armónica\n",
    "suma = 0\n",
    "for x in numeros:\n",
    "    suma += 1 / x\n",
    "armonica = N / suma\n",
    "\n",
    "# Salidas\n",
    "print(\"Media aritmética:\", aritmetica)\n",
    "print(\"Media geométrica:\", geometrica)\n",
    "print(\"Madia armónica:\", armonica)\n"
   ]
  },
  {
   "source": [
    "**Ejercicio**: Escribe un programa que reciba una contraseña del usuario y verifique que:\n",
    "\n",
    "- Su longitud sea al menos de 10 caracteres\n",
    "- Tenga al menos una mayúscula\n",
    "- Tenga al menos una minúscula\n",
    "\n",
    "***Tip***: Puedes consultar diferentes métodos de texto, adicionales a los que hemos visto, en la documentación oficial: https://docs.python.org/3/library/stdtypes.html#text-sequence-type-str"
   ],
   "cell_type": "markdown",
   "metadata": {}
  },
  {
   "cell_type": "code",
   "execution_count": 27,
   "metadata": {},
   "outputs": [
    {
     "output_type": "stream",
     "name": "stdout",
     "text": [
      "Contraseña válida.\n"
     ]
    }
   ],
   "source": [
    "# Entradas\n",
    "contrasenha = input(\"Itroduzca la contraseña: \")\n",
    "\n",
    "# Proceso\n",
    "# Suponer que todo está bien\n",
    "long_ok = mayus_ok = minus_ok = True\n",
    "# Longitud mínima 10\n",
    "if len(contrasenha) < 10:\n",
    "    long_ok = False\n",
    "# Al menos una mayúscula\n",
    "if contrasenha.lower() == contrasenha:\n",
    "    mayus_ok = False\n",
    "# Al menos una minúscula\n",
    "if contrasenha.upper() == contrasenha:\n",
    "    minus_ok = False\n",
    "\n",
    "# Salidas\n",
    "if long_ok and mayus_ok and minus_ok:\n",
    "    print(\"Contraseña válida.\")\n",
    "else:\n",
    "    print(\"Contraseña inválida:\")\n",
    "    if not long_ok:\n",
    "        print(\"- La contraseña debe tener al menos 10 caracteres.\")\n",
    "    if not mayus_ok:\n",
    "        print(\"- La contraseña debe tener al menos una letra mayúscula.\")\n",
    "    if not minus_ok:\n",
    "        print(\"- La contraseña debe tener al menos una letra minúscula.\")\n"
   ]
  },
  {
   "source": [
    "En la solución de arriba se ha considerado que si una cadena **no** tiene mayúsculas, al convertirla a minúsculas no va a tener ningún cambio. Igualmente, si **no** tiene minúsculas, no va a cambiar al convertirla a mayúsculas. Por ejemplo,\n",
    "\n",
    "```python\n",
    "\"abc123\".lower() == \"abc123\"\n",
    "```\n",
    "\n",
    "Pero, \n",
    "\n",
    "```python\n",
    "\"Abc123\".lower() != \"Abc123\"\n",
    "```\n",
    "\n",
    "Sin embargo, pudieron haberse buscado la mayúscula y la minúscula como en la siguiente solución:"
   ],
   "cell_type": "markdown",
   "metadata": {}
  },
  {
   "source": [],
   "cell_type": "markdown",
   "metadata": {}
  },
  {
   "cell_type": "code",
   "execution_count": 32,
   "metadata": {},
   "outputs": [
    {
     "output_type": "stream",
     "name": "stdout",
     "text": [
      "Contraseña válida.\n"
     ]
    }
   ],
   "source": [
    "# Entradas\n",
    "contrasenha = input(\"Itroduzca la contraseña: \")\n",
    "\n",
    "# Proceso\n",
    "# Longitud mínima 10\n",
    "long_ok = True\n",
    "if len(contrasenha) < 10:\n",
    "    long_ok = False\n",
    "\n",
    "# Al menos una mayúscula\n",
    "mayus_ok = False\n",
    "for letra in contrasenha:\n",
    "    if letra.isupper():\n",
    "        mayus_ok = True\n",
    "        break\n",
    "\n",
    "# Al menos una minúscula\n",
    "minus_ok = False\n",
    "for letra in contrasenha:\n",
    "    if letra.islower():\n",
    "        minus_ok = True\n",
    "        break\n",
    "\n",
    "# Salidas\n",
    "if long_ok and mayus_ok and minus_ok:\n",
    "    print(\"Contraseña válida.\")\n",
    "else:\n",
    "    print(\"Contraseña inválida:\")\n",
    "    if not long_ok:\n",
    "        print(\"- La contraseña debe tener al menos 10 caracteres.\")\n",
    "    if not mayus_ok:\n",
    "        print(\"- La contraseña debe tener al menos una letra mayúscula.\")\n",
    "    if not minus_ok:\n",
    "        print(\"- La contraseña debe tener al menos una letra minúscula.\")\n"
   ]
  }
 ]
}