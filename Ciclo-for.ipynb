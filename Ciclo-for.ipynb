{
 "metadata": {
  "language_info": {
   "codemirror_mode": {
    "name": "ipython",
    "version": 3
   },
   "file_extension": ".py",
   "mimetype": "text/x-python",
   "name": "python",
   "nbconvert_exporter": "python",
   "pygments_lexer": "ipython3",
   "version": "3.9.1-final"
  },
  "orig_nbformat": 2,
  "kernelspec": {
   "name": "python3",
   "display_name": "Python 3.9.1 64-bit",
   "metadata": {
    "interpreter": {
     "hash": "1e5a504a27c91785cc20fa5894256130d97c1764e1afe7fb121f7c2e7578e171"
    }
   }
  }
 },
 "nbformat": 4,
 "nbformat_minor": 2,
 "cells": [
  {
   "source": [
    "# Ciclo for\n",
    "\n",
    "Python implementa dos estructuras cíclicas:\n",
    "\n",
    "- La estructura `while` y\n",
    "- La estructura `for`\n",
    "\n",
    "Una estructura `while` está controlada por el valor lógico de la condición que la controla. En tanto el valor permanezca como `True`, el ciclo continuará ejecutándose.\n",
    "\n",
    "```python\n",
    "while condición:\n",
    "    Intrucciones a ejecutar mientras\n",
    "    condición sea True\n",
    "```\n",
    "\n",
    "***Nota***: El valor de la condición se verifica *únicamente* antes de iniciar cada repetición del ciclo.\n",
    "\n",
    "En cambio, una estructura `for` se utiliza para recorrer todo un iterable. Su sintaxis sencilla es:\n",
    "\n",
    "```python\n",
    "for variable in iterable:\n",
    "    Instrucciones a ejecutar para\n",
    "    cada uno de los elementos de\n",
    "    iterable\n",
    "```\n",
    "\n",
    "Dentro del ciclo, `variable` tomará, por turno, como valor, cada uno de los elementos de `iterable`. No es necesario hacer ninguna asignación explícita ni llevar el control de en qué momento se terminan los elementos de `iterable`, el ciclo `for` se hace cargo de esos menesteres automáticamente."
   ],
   "cell_type": "markdown",
   "metadata": {}
  },
  {
   "cell_type": "code",
   "execution_count": 1,
   "metadata": {},
   "outputs": [
    {
     "output_type": "stream",
     "name": "stdout",
     "text": [
      "1\n5\n7\n10\n0\n-2\n"
     ]
    }
   ],
   "source": [
    "for numero in [1, 5, 7, 10, 0, -2]:\n",
    "    print(numero)"
   ]
  },
  {
   "source": [
    "Una cadena también es un iterable y cada uno de sus caracteres es un elemento."
   ],
   "cell_type": "markdown",
   "metadata": {}
  },
  {
   "cell_type": "code",
   "execution_count": 3,
   "metadata": {},
   "outputs": [
    {
     "output_type": "stream",
     "name": "stdout",
     "text": [
      "'A', 'l', 'g', 'o', 'r', 'i', 't', 'm', 'o', 's', ' ', 'y', ' ', 'P', 'r', 'o', 'g', 'r', 'a', 'm', 'a', 'c', 'i', 'ó', 'n', "
     ]
    }
   ],
   "source": [
    "for letra in \"Algoritmos y Programación\":\n",
    "    print(f\"'{letra}'\", end=\", \")"
   ]
  },
  {
   "source": [
    "<div class=\"alert alert-block alert-info\">\n",
    "    <b>Ejercicio</b>: Utiliza un ciclo <code>for</code> para mostrar, en mayúsculas, cada elemento de la lista <code>coordenadas</code>.\n",
    "</div>"
   ],
   "cell_type": "markdown",
   "metadata": {}
  },
  {
   "cell_type": "code",
   "execution_count": null,
   "metadata": {},
   "outputs": [],
   "source": [
    "coordenadas = [\"Norte\", \"Sur\", \"Este\", \"Oeste\"]"
   ]
  },
  {
   "source": [
    "<div class=\"alert alert-block alert-info\">\n",
    "    <b>Ejercicio</b>: Utiliza un ciclo <code>for</code> para mostrar los números del 1 al 10.\n",
    "</div>"
   ],
   "cell_type": "markdown",
   "metadata": {}
  },
  {
   "cell_type": "code",
   "execution_count": null,
   "metadata": {},
   "outputs": [],
   "source": []
  },
  {
   "source": [
    "## `range`\n",
    "\n",
    "La función generadora `range` produce una secuencia de números enteros en un rango dado. Utilizando esta característica, es posible construir ciclos que se repitan un número específico de veces:\n",
    "\n",
    "```python\n",
    "for contador in range(n):\n",
    "    Instrucciones que se ejecutarán\n",
    "    n veces\n",
    "```\n",
    "\n",
    "Dependiendo del algoritmo en particular, es posible o no que, al interior del ciclo, interese el valor de la variable controlada por el ciclo."
   ],
   "cell_type": "markdown",
   "metadata": {}
  },
  {
   "cell_type": "code",
   "execution_count": 4,
   "metadata": {},
   "outputs": [
    {
     "output_type": "stream",
     "name": "stdout",
     "text": [
      "Debo comerme mis verduras.\nDebo comerme mis verduras.\nDebo comerme mis verduras.\nDebo comerme mis verduras.\nDebo comerme mis verduras.\nDebo comerme mis verduras.\nDebo comerme mis verduras.\nDebo comerme mis verduras.\nDebo comerme mis verduras.\nDebo comerme mis verduras.\nDebo comerme mis verduras.\nDebo comerme mis verduras.\nDebo comerme mis verduras.\nDebo comerme mis verduras.\nDebo comerme mis verduras.\n"
     ]
    }
   ],
   "source": [
    "plana = \"Debo comerme mis verduras.\"\n",
    "for i in range(15):\n",
    "    print(plana)"
   ]
  },
  {
   "cell_type": "code",
   "execution_count": 6,
   "metadata": {},
   "outputs": [
    {
     "output_type": "stream",
     "name": "stdout",
     "text": [
      " 0. Debo comerme mis verduras.\n 1. Debo comerme mis verduras.\n 2. Debo comerme mis verduras.\n 3. Debo comerme mis verduras.\n 4. Debo comerme mis verduras.\n 5. Debo comerme mis verduras.\n 6. Debo comerme mis verduras.\n 7. Debo comerme mis verduras.\n 8. Debo comerme mis verduras.\n 9. Debo comerme mis verduras.\n10. Debo comerme mis verduras.\n11. Debo comerme mis verduras.\n12. Debo comerme mis verduras.\n13. Debo comerme mis verduras.\n14. Debo comerme mis verduras.\n"
     ]
    }
   ],
   "source": [
    "plana = \"Debo comerme mis verduras.\"\n",
    "for i in range(15):\n",
    "    print(f\"{i:2}. {plana}\")"
   ]
  },
  {
   "source": [
    "<div class=\"alert alert-block alert-info\">\n",
    "    <b>Ejercicio</b>: Modifica el código de la celda de arriba para hacer una plana de 40 renglones, pero con los renglones numerados del 1 al 40.\n",
    "</div>"
   ],
   "cell_type": "markdown",
   "metadata": {}
  },
  {
   "source": [
    "## `while` *vs* `for`\n",
    "\n",
    "- `while` es la estructura repetitiva básica\n",
    "- `for` es una estructura repetitiva especializada\n",
    "- Todo lo que se puede hacer con `for`, también se puede hacer con `while`\n",
    "- No todo lo que se puede hacer con `while` se puede hacer con `for`, al menos no de manera sencilla\n",
    "\n",
    "De esta manera, cualquier ciclo escrito con `for` se puede escribir con `while`, aunque, usualmente, es más sencillo utilizar `for` cuando se puede.\n",
    "\n",
    "- Usar `for cuando se conozca de antemano cuántas veces se repetirá`un ciclo, cuando se conozcan los valores inicial y final, o cuando se quieran procesar los elementos de un conjunto\n",
    "- Usar `while` cuando no se conozca cuántas repeticiones se requerirán pero se conozca la condición de finalización"
   ],
   "cell_type": "markdown",
   "metadata": {}
  },
  {
   "source": [
    "<div class=\"alert alert-block alert-info\">\n",
    "    <b>Ejercicio</b>: Observa el código de la siguiente celda y modifícalo en una nueva celda para replicar su comportamiento pero usando un ciclo `while`.\n",
    "</div>"
   ],
   "cell_type": "markdown",
   "metadata": {}
  },
  {
   "cell_type": "code",
   "execution_count": 7,
   "metadata": {},
   "outputs": [
    {
     "output_type": "stream",
     "name": "stdout",
     "text": [
      "Bilbo\nFrodo\nSam\nMerry\nPippin\n"
     ]
    }
   ],
   "source": [
    "hobbits = [\"Bilbo\", \"Frodo\", \"Sam\", \"Merry\", \"Pippin\"]\n",
    "for hobbit in hobbits:\n",
    "    print(hobbit)"
   ]
  },
  {
   "cell_type": "code",
   "execution_count": null,
   "metadata": {},
   "outputs": [],
   "source": [
    "# Ahora hazlo con while\n"
   ]
  },
  {
   "source": [
    "## `zip`\n",
    "\n",
    "En ocasiones, es necesario aplicar un procedimiento iterativo que involucre varias listas del mismo tamaño. Para eso, se puede utilizar la función `zip` que *empaca* los valores correspondientes, por su orden, de las diferentes listas.\n",
    "\n",
    "Hay que tomar nota de que es necesario utilizar, en el `for`, una variable que reciba el elemento correspondiente por cada una de las listas en el `zip`."
   ],
   "cell_type": "markdown",
   "metadata": {}
  },
  {
   "cell_type": "code",
   "execution_count": 8,
   "metadata": {},
   "outputs": [
    {
     "output_type": "stream",
     "name": "stdout",
     "text": [
      "La calificación de Eeni es 65\nLa calificación de Meenie es 80\nLa calificación de Miney es 75\nLa calificación de Moo es 50\n"
     ]
    }
   ],
   "source": [
    "alumnos = [\"Eeni\", \"Meenie\", \"Miney\", \"Moo\"]\n",
    "calificaciones = [65, 80, 75, 50]\n",
    "for alumno, calificacion in zip(alumnos, calificaciones):\n",
    "    print(f\"La calificación de {alumno} es {calificacion}\")"
   ]
  },
  {
   "source": [
    "`zip` no está limitado a dos listas, puede empacar cualquier número."
   ],
   "cell_type": "markdown",
   "metadata": {}
  },
  {
   "cell_type": "code",
   "execution_count": 11,
   "metadata": {},
   "outputs": [
    {
     "output_type": "stream",
     "name": "stdout",
     "text": [
      "1 uno    one    ein   \n2 dos    two    zwei  \n3 tres   three  drei  \n4 cuatro four   vier  \n5 cinco  five   fünf  \n6 seis   six    sechs \n"
     ]
    }
   ],
   "source": [
    "numeros = [1, 2, 3, 4, 5, 6]\n",
    "espanol = [\"uno\", \"dos\", \"tres\", \"cuatro\", \"cinco\", \"seis\"]\n",
    "ingles = [\"one\", \"two\", \"three\", \"four\", \"five\", \"six\"]\n",
    "aleman = [\"ein\", \"zwei\", \"drei\", \"vier\", \"fünf\", \"sechs\"]\n",
    "for num, esp, ing, ale in zip(numeros, espanol, ingles, aleman):\n",
    "    print(f\"{num} {esp:6} {ing:6} {ale:6}\")"
   ]
  },
  {
   "source": [
    "<div class=\"alert alert-block alert-info\">\n",
    "    <b>Ejercicio</b>: En la siguiente celda, crea una lista `personas` y una lista `frutas` con los nombres de la fruta favorita de cada persona. Después, utiliza <code>for</code> y <code>zip</code> para construir frases como:<p><code>La fruta favorita de Juan es la naranja</code>.\n",
    "</div>"
   ],
   "cell_type": "markdown",
   "metadata": {}
  },
  {
   "cell_type": "code",
   "execution_count": null,
   "metadata": {},
   "outputs": [],
   "source": []
  },
  {
   "source": [
    "## `enumerate`\n",
    "\n",
    "En algunas ocasiones, es necesario, además de conocer el elemento con el que se está trabajando, su posición en la lista. Esto se puede lograr utilizando la función `enumerate` que, por cada elemento de una lista, produce dos elementos: un valor de índice y el valor del elemento en la lista."
   ],
   "cell_type": "markdown",
   "metadata": {}
  },
  {
   "cell_type": "code",
   "execution_count": 12,
   "metadata": {},
   "outputs": [
    {
     "output_type": "stream",
     "name": "stdout",
     "text": [
      "0 lunes\n1 martes\n2 miércoles\n3 jueves\n4 viernes\n"
     ]
    }
   ],
   "source": [
    "dias = [\"lunes\", \"martes\", \"miércoles\", \"jueves\", \"viernes\"]\n",
    "for i, d in enumerate(dias):\n",
    "    print(i, d)"
   ]
  },
  {
   "source": [
    "En realidad, el índice producido por `enumerate` es arbitrario y **no** está relacionado con el verdadero índice del elemento en la lista, es simplemente un entero consecutivo que inicia en un valor que se puede establecer."
   ],
   "cell_type": "markdown",
   "metadata": {}
  },
  {
   "cell_type": "code",
   "execution_count": 13,
   "metadata": {},
   "outputs": [
    {
     "output_type": "stream",
     "name": "stdout",
     "text": [
      "9 lunes\n10 martes\n11 miércoles\n12 jueves\n13 viernes\n"
     ]
    }
   ],
   "source": [
    "dias = [\"lunes\", \"martes\", \"miércoles\", \"jueves\", \"viernes\"]\n",
    "for i, d in enumerate(dias, start=9):\n",
    "    print(i, d)"
   ]
  },
  {
   "source": [
    "# Ejercicios"
   ],
   "cell_type": "markdown",
   "metadata": {}
  },
  {
   "source": [
    "**Ejercicio**: Verificar que una cadena introducida por el usuario no contenga dígitos."
   ],
   "cell_type": "markdown",
   "metadata": {}
  },
  {
   "cell_type": "code",
   "execution_count": null,
   "metadata": {},
   "outputs": [],
   "source": []
  },
  {
   "source": [
    "**Ejercicio**: Durante el análisis de datos en ingeniería, frecuentemente es necesario calcular medidas de tendencia central en una muestra. La más frecuente es la media aritmética ($\\overline x$):\n",
    "\n",
    "$$ \\overline x = \\frac{\\sum_{i=n}^N x}{N}$$\n",
    "\n",
    "Pero también tenemos la media geométrica (G):\n",
    "\n",
    "$$ G = \\sqrt[N] {\\prod_{i=1}^{N} x} = \\sqrt [N] {x_1 \\cdot x_2 ... x_N } $$\n",
    "\n",
    "Y la media armónica (H):\n",
    "\n",
    "$$ H = \\frac {N} {\\sum_{i=1}^N \\frac{1}{n}}  = N \\cdot \\left( \\sum_{i=1}^N \\frac{1}{n} \\right)^{-1}$$\n",
    "\n",
    "Escribe un programa que, dada una serie de datos, calcule las tres medias."
   ],
   "cell_type": "markdown",
   "metadata": {}
  },
  {
   "cell_type": "code",
   "execution_count": null,
   "metadata": {},
   "outputs": [],
   "source": []
  },
  {
   "source": [
    "**Ejercicio**: Escribe un programa que reciba una contraseña del usuario y verifique que:\n",
    "\n",
    "- Su longitud sea al menos de 10 caracteres\n",
    "- Tenga al menos una mayúscula\n",
    "- Tenga al menos una minúscula\n",
    "\n",
    "***Tip***: Puedes consultar diferentes métodos de texto, adicionales a los que hemos visto, en la documentación oficial: https://docs.python.org/3/library/stdtypes.html#text-sequence-type-str"
   ],
   "cell_type": "markdown",
   "metadata": {}
  },
  {
   "cell_type": "code",
   "execution_count": null,
   "metadata": {},
   "outputs": [],
   "source": []
  }
 ]
}