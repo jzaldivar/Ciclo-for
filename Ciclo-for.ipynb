{
 "cells": [
  {
   "cell_type": "markdown",
   "metadata": {},
   "source": [
    "# Ciclo for\n",
    "\n",
    "Python implementa dos estructuras cíclicas:\n",
    "\n",
    "- La estructura `while` y\n",
    "- La estructura `for`\n",
    "\n",
    "Una estructura `while` está controlada por el valor lógico de la condición que la controla. En tanto el valor permanezca como `True`, el ciclo continuará ejecutándose.\n",
    "\n",
    "```python\n",
    "while condición:\n",
    "    Intrucciones a ejecutar mientras\n",
    "    condición sea True\n",
    "```\n",
    "\n",
    "***Nota***: El valor de la condición se verifica *únicamente* antes de iniciar cada repetición del ciclo.\n",
    "\n",
    "En cambio, una estructura `for` se utiliza para recorrer todo un iterable. Su sintaxis sencilla es:\n",
    "\n",
    "```python\n",
    "for variable in iterable:\n",
    "    Instrucciones a ejecutar para\n",
    "    cada uno de los elementos de\n",
    "    iterable\n",
    "```\n",
    "\n",
    "Dentro del ciclo, `variable` tomará, por turno, como valor, cada uno de los elementos de `iterable`. No es necesario hacer ninguna asignación explícita ni llevar el control de en qué momento se terminan los elementos de `iterable`, el ciclo `for` se hace cargo de esos menesteres automáticamente."
   ]
  },
  {
   "cell_type": "code",
   "execution_count": null,
   "metadata": {},
   "outputs": [],
   "source": [
    "for numero in [1, 5, 7, 10, 0, -2]:\n",
    "    print(numero)"
   ]
  },
  {
   "cell_type": "markdown",
   "metadata": {},
   "source": [
    "Una cadena también es un iterable y cada uno de sus caracteres es un elemento."
   ]
  },
  {
   "cell_type": "code",
   "execution_count": null,
   "metadata": {},
   "outputs": [],
   "source": [
    "for letra in \"Algoritmos y Programación\":\n",
    "    print(f\"'{letra}'\", end=\", \")"
   ]
  },
  {
   "cell_type": "markdown",
   "metadata": {},
   "source": [
    "---\n",
    "**Ejercicio**: Utiliza un ciclo `for` para mostrar, en mayúsculas, cada elemento de la lista `coordenadas`."
   ]
  },
  {
   "cell_type": "code",
   "execution_count": null,
   "metadata": {},
   "outputs": [],
   "source": [
    "coordenadas = [\"Norte\", \"Sur\", \"Este\", \"Oeste\"]"
   ]
  },
  {
   "cell_type": "markdown",
   "metadata": {},
   "source": [
    "---"
   ]
  },
  {
   "cell_type": "markdown",
   "metadata": {},
   "source": [
    "---\n",
    "**Ejercicio**: Utiliza un ciclo `for` para mostrar los números del 1 al 10."
   ]
  },
  {
   "cell_type": "code",
   "execution_count": null,
   "metadata": {},
   "outputs": [],
   "source": []
  },
  {
   "cell_type": "markdown",
   "metadata": {},
   "source": [
    "---"
   ]
  },
  {
   "cell_type": "markdown",
   "metadata": {},
   "source": [
    "## `range`\n",
    "\n",
    "La función generadora `range` produce una secuencia de números enteros en un rango dado. Utilizando esta característica, es posible construir ciclos que se repitan un número específico de veces:\n",
    "\n",
    "```python\n",
    "for contador in range(n):\n",
    "    Instrucciones que se ejecutarán\n",
    "    n veces\n",
    "```\n",
    "\n",
    "Dependiendo del algoritmo en particular, es posible o no que, al interior del ciclo, interese el valor de la variable controlada por el ciclo."
   ]
  },
  {
   "cell_type": "code",
   "execution_count": null,
   "metadata": {},
   "outputs": [],
   "source": [
    "plana = \"Debo comerme mis verduras.\"\n",
    "for i in range(15):\n",
    "    print(plana)"
   ]
  },
  {
   "cell_type": "code",
   "execution_count": null,
   "metadata": {},
   "outputs": [],
   "source": [
    "plana = \"Debo comerme mis verduras.\"\n",
    "for i in range(15):\n",
    "    print(f\"{i:2}. {plana}\")"
   ]
  },
  {
   "cell_type": "markdown",
   "metadata": {},
   "source": [
    "---\n",
    "**Ejercicio**: Modifica el código de la celda de arriba para hacer una plana de 40 renglones, pero con los renglones numerados del 1 al 40."
   ]
  },
  {
   "cell_type": "markdown",
   "metadata": {},
   "source": [
    "---\n",
    "**Ejercicio**: Imprime, mediante un ciclo `for`, los números del 1 al 100, en el mismo renglón, separados por un espacio:\n",
    "\n",
    "    1 2 3 4 5 ... 98 99 100"
   ]
  },
  {
   "cell_type": "code",
   "execution_count": null,
   "metadata": {},
   "outputs": [],
   "source": []
  },
  {
   "cell_type": "markdown",
   "metadata": {},
   "source": [
    "---"
   ]
  },
  {
   "cell_type": "markdown",
   "metadata": {},
   "source": [
    "## `while` *vs* `for`\n",
    "\n",
    "- `while` es la estructura repetitiva básica\n",
    "- `for` es una estructura repetitiva especializada\n",
    "- Todo lo que se puede hacer con `for`, también se puede hacer con `while`\n",
    "- No todo lo que se puede hacer con `while` se puede hacer con `for`, al menos no de manera sencilla\n",
    "\n",
    "De esta manera, cualquier ciclo escrito con `for` se puede escribir con `while`, aunque, usualmente, es más sencillo utilizar `for` cuando se puede.\n",
    "\n",
    "- Usar `for` cuando se conozca de antemano cuántas veces se repetirá un ciclo, cuando se conozcan los valores inicial y final, o cuando se quieran procesar los elementos de una secuencia o conjunto\n",
    "- Usar `while` cuando no se conozca cuántas repeticiones se requerirán pero se conozca la condición de finalización"
   ]
  },
  {
   "cell_type": "markdown",
   "metadata": {},
   "source": [
    "---\n",
    "**Ejercicio**: Observa el código de la siguiente celda, ejecútalo para que observes lo que hace y, después, modifícalo *en una nueva celda* para replicar su comportamiento pero usando un ciclo `while`."
   ]
  },
  {
   "cell_type": "code",
   "execution_count": null,
   "metadata": {},
   "outputs": [],
   "source": [
    "hobbits = [\"Bilbo\", \"Frodo\", \"Sam\", \"Merry\", \"Pippin\"]\n",
    "for hobbit in hobbits:\n",
    "    print(hobbit)"
   ]
  },
  {
   "cell_type": "code",
   "execution_count": null,
   "metadata": {},
   "outputs": [],
   "source": [
    "# Ahora hazlo con while\n"
   ]
  },
  {
   "cell_type": "markdown",
   "metadata": {},
   "source": [
    "---"
   ]
  },
  {
   "cell_type": "markdown",
   "metadata": {},
   "source": [
    "## `zip`\n",
    "\n",
    "En ocasiones, es necesario aplicar un procedimiento iterativo que involucre varias listas del mismo tamaño. Para eso, se puede utilizar la función `zip` que *empaca* los valores correspondientes, por su orden, de las diferentes listas.\n",
    "\n",
    "Hay que tomar nota de que es necesario utilizar, en el `for`, una variable que reciba el elemento correspondiente por cada una de las listas en el `zip`."
   ]
  },
  {
   "cell_type": "code",
   "execution_count": null,
   "metadata": {},
   "outputs": [],
   "source": [
    "alumnos = [\"Eeni\", \"Meenie\", \"Miney\", \"Moo\"]\n",
    "calificaciones = [65, 80, 75, 50]\n",
    "for alumno, calificacion in zip(alumnos, calificaciones):\n",
    "    print(f\"La calificación de {alumno} es {calificacion}\")"
   ]
  },
  {
   "cell_type": "markdown",
   "metadata": {},
   "source": [
    "`zip` no está limitado a dos listas, puede empacar cualquier número de listas."
   ]
  },
  {
   "cell_type": "code",
   "execution_count": null,
   "metadata": {},
   "outputs": [],
   "source": [
    "numeros = [1, 2, 3, 4, 5, 6]\n",
    "espanol = [\"uno\", \"dos\", \"tres\", \"cuatro\", \"cinco\", \"seis\"]\n",
    "ingles = [\"one\", \"two\", \"three\", \"four\", \"five\", \"six\"]\n",
    "aleman = [\"ein\", \"zwei\", \"drei\", \"vier\", \"fünf\", \"sechs\"]\n",
    "for num, esp, ing, ale in zip(numeros, espanol, ingles, aleman):\n",
    "    print(f\"{num} {esp:6} {ing:6} {ale:6}\")"
   ]
  },
  {
   "cell_type": "markdown",
   "metadata": {},
   "source": [
    "---\n",
    "**Ejercicio**: En la siguiente celda, crea una lista `personas` y una lista `frutas` con los nombres de la fruta favorita de cada persona. Después, utiliza `for` y `zip` para construir frases como:\n",
    "\n",
    "    La fruta favorita de Juan es la naranja."
   ]
  },
  {
   "cell_type": "code",
   "execution_count": null,
   "metadata": {},
   "outputs": [],
   "source": []
  },
  {
   "cell_type": "markdown",
   "metadata": {},
   "source": [
    "---"
   ]
  },
  {
   "cell_type": "markdown",
   "metadata": {},
   "source": [
    "## `enumerate`\n",
    "\n",
    "En algunas ocasiones, es necesario conocer, además del elemento con el que se está trabajando, su posición en la lista. Esto se puede lograr utilizando la función `enumerate` que, por cada elemento de una lista, produce dos elementos: un valor de índice y el valor del elemento en la lista."
   ]
  },
  {
   "cell_type": "code",
   "execution_count": null,
   "metadata": {},
   "outputs": [],
   "source": [
    "dias = [\"lunes\", \"martes\", \"miércoles\", \"jueves\", \"viernes\"]\n",
    "for i, d in enumerate(dias):\n",
    "    print(i, d)"
   ]
  },
  {
   "cell_type": "markdown",
   "metadata": {},
   "source": [
    "En realidad, el índice producido por `enumerate` es arbitrario y **no** está relacionado con el verdadero índice del elemento en la lista, es simplemente un entero consecutivo que inicia en un valor arbitrario, de manera predeterminada `0`, pero se puede establecer mediante el parámetro opcional `start`."
   ]
  },
  {
   "cell_type": "code",
   "execution_count": null,
   "metadata": {},
   "outputs": [],
   "source": [
    "dias = [\"lunes\", \"martes\", \"miércoles\", \"jueves\", \"viernes\"]\n",
    "for i, d in enumerate(dias, start=9):\n",
    "    print(i, d)"
   ]
  },
  {
   "cell_type": "markdown",
   "metadata": {},
   "source": [
    "# Ejercicios"
   ]
  },
  {
   "cell_type": "markdown",
   "metadata": {},
   "source": [
    "**Ejercicio**: Verificar que una cadena introducida por el usuario no contenga dígitos."
   ]
  },
  {
   "cell_type": "code",
   "execution_count": null,
   "metadata": {},
   "outputs": [],
   "source": []
  },
  {
   "cell_type": "markdown",
   "metadata": {},
   "source": [
    "**Ejercicio**: Durante el análisis de datos en ingeniería, frecuentemente es necesario calcular medidas de tendencia central en una muestra. La más frecuente es la media aritmética ($\\overline x$):\n",
    "\n",
    "$$ \\overline x = \\frac{\\sum_{i=n}^N x}{N} = \\frac{x_1 + x_2 + ... + x_N}{N}$$\n",
    "\n",
    "Pero también tenemos la media geométrica (G):\n",
    "\n",
    "$$ G = \\sqrt[N] {\\prod_{i=1}^{N} x} = \\sqrt [N] {x_1 \\cdot x_2 \\cdot ... \\cdot x_N } $$\n",
    "\n",
    "Y la media armónica (H):\n",
    "\n",
    "$$ H = \\frac {N} {\\sum_{i=1}^N \\frac{1}{x_i}}  = N \\cdot \\left( \\sum_{i=1}^N \\frac{1}{x_i} \\right)^{-1} = \\frac {N} {\\frac{1}{x_1} + \\frac{1}{x_2} + ... + \\frac{1}{x_N}}$$\n",
    "\n",
    "Escribe un programa que, dada una serie de datos, calcule las tres medias."
   ]
  },
  {
   "cell_type": "code",
   "execution_count": null,
   "metadata": {},
   "outputs": [],
   "source": []
  },
  {
   "cell_type": "markdown",
   "metadata": {},
   "source": [
    "**Ejercicio**: Escribe un programa que reciba una contraseña del usuario y verifique que:\n",
    "\n",
    "- Su longitud sea al menos de 10 caracteres\n",
    "- Tenga al menos una mayúscula\n",
    "- Tenga al menos una minúscula\n",
    "\n",
    "***Tip***: Puedes consultar diferentes métodos de texto, adicionales a los que hemos visto, en la documentación oficial: https://docs.python.org/3/library/stdtypes.html#text-sequence-type-str"
   ]
  },
  {
   "cell_type": "code",
   "execution_count": null,
   "metadata": {},
   "outputs": [],
   "source": []
  }
 ],
 "metadata": {
  "kernelspec": {
   "display_name": "Python 3.9.1 64-bit",
   "metadata": {
    "interpreter": {
     "hash": "1e5a504a27c91785cc20fa5894256130d97c1764e1afe7fb121f7c2e7578e171"
    }
   },
   "name": "python3"
  },
  "language_info": {
   "codemirror_mode": {
    "name": "ipython",
    "version": 3
   },
   "file_extension": ".py",
   "mimetype": "text/x-python",
   "name": "python",
   "nbconvert_exporter": "python",
   "pygments_lexer": "ipython3",
   "version": "3.9.1-final"
  },
  "orig_nbformat": 2
 },
 "nbformat": 4,
 "nbformat_minor": 2
}
